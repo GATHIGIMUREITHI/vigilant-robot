{
 "cells": [
  {
   "cell_type": "code",
   "execution_count": 1,
   "id": "6a3615bf",
   "metadata": {},
   "outputs": [
    {
     "data": {
      "text/plain": [
       "list"
      ]
     },
     "execution_count": 1,
     "metadata": {},
     "output_type": "execute_result"
    }
   ],
   "source": [
    "info_table = [\n",
    "    {\"color\": \"green\", \"number\": 7},\n",
    "    {\"color\": \"red\", \"number\": 2},\n",
    "    {\"color\": \"orange\", \"number\": 1}\n",
    "]\n",
    "\n",
    "type(info_table) "
   ]
  },
  {
   "cell_type": "code",
   "execution_count": 2,
   "id": "6fca2753",
   "metadata": {},
   "outputs": [
    {
     "name": "stdout",
     "output_type": "stream",
     "text": [
      "green\n",
      "red\n",
      "orange\n"
     ]
    }
   ],
   "source": [
    "for row in info_table:\n",
    "    print(row[\"color\"]) "
   ]
  },
  {
   "cell_type": "code",
   "execution_count": 3,
   "id": "b738bb41",
   "metadata": {},
   "outputs": [
    {
     "data": {
      "text/plain": [
       "pandas.core.frame.DataFrame"
      ]
     },
     "execution_count": 3,
     "metadata": {},
     "output_type": "execute_result"
    }
   ],
   "source": [
    "import pandas as pd\n",
    "df = pd.DataFrame(info_table)\n",
    "type(df) "
   ]
  },
  {
   "cell_type": "code",
   "execution_count": 4,
   "id": "f8c7d2a0",
   "metadata": {},
   "outputs": [
    {
     "name": "stdout",
     "output_type": "stream",
     "text": [
      "0     green\n",
      "1       red\n",
      "2    orange\n",
      "Name: color, dtype: object\n"
     ]
    }
   ],
   "source": [
    "print(df[\"color\"]) "
   ]
  },
  {
   "cell_type": "code",
   "execution_count": 6,
   "id": "4262c489",
   "metadata": {},
   "outputs": [],
   "source": [
    "import csv\n",
    "import json "
   ]
  },
  {
   "cell_type": "code",
   "execution_count": 12,
   "id": "6cf13d38",
   "metadata": {},
   "outputs": [
    {
     "name": "stdout",
     "output_type": "stream",
     "text": [
      "Total apple tree yields: 6\n",
      "Average apple tree yield: 42.03497988574005\n",
      "Maximum apple tree yield: 46.6006230827385\n",
      "Minimum apple tree yield: 39.741234289561504\n"
     ]
    }
   ],
   "source": [
    "with open(\"apple_orchard.csv\") as f:\n",
    "    apple_orchard_data = list(csv.DictReader(f))\n",
    "    apple_tree_yields = [float(x[\"yield\"]) for x in apple_orchard_data]\n",
    "    print(\"Total apple tree yields:\", len(apple_tree_yields))\n",
    "    print(\"Average apple tree yield:\", sum(apple_tree_yields) / len(apple_tree_yields))\n",
    "    print(\"Maximum apple tree yield:\", max(apple_tree_yields))\n",
    "    print(\"Minimum apple tree yield:\", min(apple_tree_yields)) "
   ]
  },
  {
   "cell_type": "code",
   "execution_count": 18,
   "id": "cb4ce662",
   "metadata": {},
   "outputs": [],
   "source": [
    "graph_data ={\n",
    "  'nodes': [\n",
    "    {'id': '347457291'},\n",
    "    {'id': '232762581'},\n",
    "    {'id': '23678636'},\n",
    "    {'id': '21278412'},\n",
    "    {'id': '222040026'},\n",
    "    {'id': '19579205'},\n",
    "    {'id': '222957350'},\n",
    "    {'id': '264013722'},\n",
    "    ...\n",
    "  ],\n",
    "  'links': [\n",
    "    {'source': '347457291', 'target': '232762581'},\n",
    "    {'source': '347457291', 'target': '119706266'},\n",
    "    {'source': '347457291', 'target': '421509544'},\n",
    "    {'source': '232762581', 'target': '222957350'},\n",
    "    {'source': '232762581', 'target': '21648607'},\n",
    "    {'source': '232762581', 'target': '155691033'},\n",
    "    {'source': '232762581', 'target': '59974294'},\n",
    "    ...\n",
    "  ]\n",
    "\n",
    "} "
   ]
  },
  {
   "cell_type": "code",
   "execution_count": 19,
   "id": "f379eee6",
   "metadata": {},
   "outputs": [
    {
     "data": {
      "text/plain": [
       "{'nodes': [{'id': '347457291'},\n",
       "  {'id': '232762581'},\n",
       "  {'id': '23678636'},\n",
       "  {'id': '21278412'},\n",
       "  {'id': '222040026'},\n",
       "  {'id': '19579205'},\n",
       "  {'id': '222957350'},\n",
       "  {'id': '264013722'},\n",
       "  Ellipsis],\n",
       " 'links': [{'source': '347457291', 'target': '232762581'},\n",
       "  {'source': '347457291', 'target': '119706266'},\n",
       "  {'source': '347457291', 'target': '421509544'},\n",
       "  {'source': '232762581', 'target': '222957350'},\n",
       "  {'source': '232762581', 'target': '21648607'},\n",
       "  {'source': '232762581', 'target': '155691033'},\n",
       "  {'source': '232762581', 'target': '59974294'},\n",
       "  Ellipsis]}"
      ]
     },
     "execution_count": 19,
     "metadata": {},
     "output_type": "execute_result"
    }
   ],
   "source": [
    "{\n",
    "  'nodes': [\n",
    "    {'id': '347457291'},\n",
    "    {'id': '232762581'},\n",
    "    {'id': '23678636'},\n",
    "    {'id': '21278412'},\n",
    "    {'id': '222040026'},\n",
    "    {'id': '19579205'},\n",
    "    {'id': '222957350'},\n",
    "    {'id': '264013722'},\n",
    "    ...\n",
    "  ],\n",
    "  'links': [\n",
    "    {'source': '347457291', 'target': '232762581'},\n",
    "    {'source': '347457291', 'target': '119706266'},\n",
    "    {'source': '347457291', 'target': '421509544'},\n",
    "    {'source': '232762581', 'target': '222957350'},\n",
    "    {'source': '232762581', 'target': '21648607'},\n",
    "    {'source': '232762581', 'target': '155691033'},\n",
    "    {'source': '232762581', 'target': '59974294'},\n",
    "    ...\n",
    "  ]\n",
    "  \n",
    "} "
   ]
  },
  {
   "cell_type": "code",
   "execution_count": 7,
   "id": "cb7cbc30",
   "metadata": {},
   "outputs": [
    {
     "name": "stdout",
     "output_type": "stream",
     "text": [
      "There are 8 users in this dataset\n",
      "\n",
      "Top 5 Sources:\n",
      "User 232762581\t| 4 Tweets\n",
      "User 347457291\t| 3 Tweets\n",
      "\n",
      "Top 5 Targets:\n",
      "User 232762581\t| 1 Tweets\n",
      "User 119706266\t| 1 Tweets\n",
      "User 421509544\t| 1 Tweets\n",
      "User 222957350\t| 1 Tweets\n",
      "User 21648607\t| 1 Tweets\n"
     ]
    }
   ],
   "source": [
    "def build_freq_table(key, links):\n",
    "    table = {}\n",
    "    for link in links:\n",
    "        user = link[key]\n",
    "        table[user] = table.get(user, 0) + 1\n",
    "    return table\n",
    "\n",
    "def print_top_5(table):\n",
    "    for k, v in sorted(table.items(), key=lambda x: x[1], reverse=True)[:5]:\n",
    "        print(f\"User {k}\\t| {v} Tweets\")\n",
    "\n",
    "with open(\"twitter_graph.json\") as f:\n",
    "    twitter_data = json.load(f)\n",
    "    print(f\"There are {len(twitter_data['nodes'])} users in this dataset\")\n",
    "    print()\n",
    "\n",
    "    links = twitter_data[\"links\"]\n",
    "    sources = build_freq_table(\"source\", links)\n",
    "    targets = build_freq_table(\"target\", links)\n",
    "\n",
    "    print(\"Top 5 Sources:\")\n",
    "    print_top_5(sources)\n",
    "    print()\n",
    "    print(\"Top 5 Targets:\")\n",
    "    print_top_5(targets) "
   ]
  }
 ],
 "metadata": {
  "kernelspec": {
   "display_name": "Python (learn-env)",
   "language": "python",
   "name": "learn-env"
  },
  "language_info": {
   "codemirror_mode": {
    "name": "ipython",
    "version": 3
   },
   "file_extension": ".py",
   "mimetype": "text/x-python",
   "name": "python",
   "nbconvert_exporter": "python",
   "pygments_lexer": "ipython3",
   "version": "3.8.5"
  }
 },
 "nbformat": 4,
 "nbformat_minor": 5
}
