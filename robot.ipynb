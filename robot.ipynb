{
 "cells": [
  {
   "cell_type": "code",
   "execution_count": 65,
   "id": "769153e7",
   "metadata": {},
   "outputs": [],
   "source": [
    "### Git \n"
   ]
  },
  {
   "cell_type": "code",
   "execution_count": 66,
   "id": "88eba007",
   "metadata": {},
   "outputs": [
    {
     "data": {
      "text/plain": [
       "' git add remote origin <url>'"
      ]
     },
     "execution_count": 66,
     "metadata": {},
     "output_type": "execute_result"
    }
   ],
   "source": [
    "\"\"\"\n",
    "Our main agenda is to upload/push to Github.\n",
    "\n",
    "Steps before pushing \n",
    "-Git is iniatilised\n",
    "\n",
    "    git init\n",
    "-Stage our changes\n",
    "    git add <argument>\n",
    "\n",
    "    #change for notebook alone\n",
    "    git add robot.ipynb\n",
    "\n",
    "    #track all the files\n",
    "    git add .\n",
    "-Taking the snapshot with a label\n",
    "    git commit -m 'First Commit'\n",
    "\n",
    "\n",
    "-Uploading to Github\n",
    "    git push origin <name of your branch>\n",
    "\n",
    "\"\"\"\n",
    "\n",
    "\" git add remote origin <url>\""
   ]
  },
  {
   "cell_type": "markdown",
   "id": "e079585f",
   "metadata": {},
   "source": [
    "### Python File I/O\n",
    "Python built in ways to opening/loading files. ( Input and Output.)\n",
    "\n",
    ".open() is the dedicated function in python to load files.\n",
    "\n",
    "...\n",
    "Syntax:\n",
    "\n",
    "open(filename, mode)\n",
    "...\n",
    "\n",
    "**Mode**\n",
    "* 'r' --> read only\n",
    "* 'w' --> write only\n",
    "* 'r+' --> read and write\n",
    "* 'a' --> append only(going to write new data at the end of the file without erasing existing)"
   ]
  },
  {
   "cell_type": "code",
   "execution_count": 67,
   "id": "a2c018d1",
   "metadata": {},
   "outputs": [
    {
     "data": {
      "text/html": [
       "<div>\n",
       "<style scoped>\n",
       "    .dataframe tbody tr th:only-of-type {\n",
       "        vertical-align: middle;\n",
       "    }\n",
       "\n",
       "    .dataframe tbody tr th {\n",
       "        vertical-align: top;\n",
       "    }\n",
       "\n",
       "    .dataframe thead th {\n",
       "        text-align: right;\n",
       "    }\n",
       "</style>\n",
       "<table border=\"1\" class=\"dataframe\">\n",
       "  <thead>\n",
       "    <tr style=\"text-align: right;\">\n",
       "      <th></th>\n",
       "      <th>Abuja</th>\n",
       "      <th>Berlin</th>\n",
       "      <th>Cairo</th>\n",
       "      <th>Durban</th>\n",
       "      <th>Eldoret</th>\n",
       "    </tr>\n",
       "  </thead>\n",
       "  <tbody>\n",
       "    <tr>\n",
       "      <th>0</th>\n",
       "      <td>1</td>\n",
       "      <td>2</td>\n",
       "      <td>3</td>\n",
       "      <td>4</td>\n",
       "      <td>5</td>\n",
       "    </tr>\n",
       "    <tr>\n",
       "      <th>1</th>\n",
       "      <td>1</td>\n",
       "      <td>2</td>\n",
       "      <td>3</td>\n",
       "      <td>4</td>\n",
       "      <td>5</td>\n",
       "    </tr>\n",
       "    <tr>\n",
       "      <th>2</th>\n",
       "      <td>1</td>\n",
       "      <td>2</td>\n",
       "      <td>3</td>\n",
       "      <td>4</td>\n",
       "      <td>5</td>\n",
       "    </tr>\n",
       "    <tr>\n",
       "      <th>3</th>\n",
       "      <td>1</td>\n",
       "      <td>2</td>\n",
       "      <td>3</td>\n",
       "      <td>4</td>\n",
       "      <td>5</td>\n",
       "    </tr>\n",
       "    <tr>\n",
       "      <th>4</th>\n",
       "      <td>H</td>\n",
       "      <td>A</td>\n",
       "      <td>H</td>\n",
       "      <td>A</td>\n",
       "      <td>H</td>\n",
       "    </tr>\n",
       "  </tbody>\n",
       "</table>\n",
       "</div>"
      ],
      "text/plain": [
       "  Abuja Berlin Cairo Durban Eldoret\n",
       "0     1      2     3      4       5\n",
       "1     1      2     3      4       5\n",
       "2     1      2     3      4       5\n",
       "3     1      2     3      4       5\n",
       "4     H      A     H      A       H"
      ]
     },
     "execution_count": 67,
     "metadata": {},
     "output_type": "execute_result"
    }
   ],
   "source": [
    "#opening csv\n",
    "import pandas as pd\n",
    "\n",
    "\n",
    "pd.read_csv('./sample.csv').head()"
   ]
  },
  {
   "cell_type": "code",
   "execution_count": 68,
   "id": "7b720829",
   "metadata": {},
   "outputs": [
    {
     "data": {
      "text/plain": [
       "'Abuja,Berlin,Cairo,Durban,Eldoret\\n1,2,3,4,5\\n1,2,3,4,5\\n1,2,3,4,5\\n1,2,3,4,5\\nH,A,H,A,H'"
      ]
     },
     "execution_count": 68,
     "metadata": {},
     "output_type": "execute_result"
    }
   ],
   "source": [
    "x = open('./sample.csv', 'r')\n",
    "\n",
    "x.read()\n",
    "\n"
   ]
  },
  {
   "cell_type": "code",
   "execution_count": 69,
   "id": "03daa332",
   "metadata": {},
   "outputs": [],
   "source": [
    "x.close()"
   ]
  },
  {
   "cell_type": "markdown",
   "id": "9c24c387",
   "metadata": {},
   "source": [
    "## 'with'\n",
    "This automatically opens and closes the file when using the open() function\n",
    "\n"
   ]
  },
  {
   "cell_type": "code",
   "execution_count": 70,
   "id": "6c0e452e",
   "metadata": {},
   "outputs": [
    {
     "name": "stdout",
     "output_type": "stream",
     "text": [
      "Abuja,Berlin,Cairo,Durban,Eldoret\n",
      "1,2,3,4,5\n",
      "1,2,3,4,5\n",
      "1,2,3,4,5\n",
      "1,2,3,4,5\n",
      "H,A,H,A,H\n"
     ]
    }
   ],
   "source": [
    "with open('sample.csv', 'r') as f:\n",
    "    print(f.read())"
   ]
  },
  {
   "cell_type": "code",
   "execution_count": 71,
   "id": "b172518c",
   "metadata": {},
   "outputs": [
    {
     "name": "stdout",
     "output_type": "stream",
     "text": [
      "1 2\n",
      "1 2\n",
      "1 2\n",
      "1 2\n",
      "H A\n"
     ]
    }
   ],
   "source": [
    "import csv\n",
    "\n",
    "with open('sample.csv') as f:\n",
    "    reader = csv.DictReader(f)\n",
    "    #\n",
    "    for row in reader:\n",
    "        print(row['Abuja'], row['Berlin'])\n",
    "    "
   ]
  },
  {
   "cell_type": "markdown",
   "id": "fb5674d6",
   "metadata": {},
   "source": [
    "Create a new file and write to it"
   ]
  },
  {
   "cell_type": "code",
   "execution_count": 72,
   "id": "2356f310",
   "metadata": {},
   "outputs": [],
   "source": [
    "with open('cities.txt', 'w') as f:\n",
    "    f.write('Dallas | London | Nairobi')"
   ]
  },
  {
   "cell_type": "code",
   "execution_count": 73,
   "id": "c60109e1",
   "metadata": {},
   "outputs": [],
   "source": [
    "with open('cities.txt', 'w') as f:\n",
    "    f.write('Moscow | Paris | Toronto')"
   ]
  },
  {
   "cell_type": "markdown",
   "id": "33323ff7",
   "metadata": {},
   "source": [
    "## JSON\n",
    "JSON is Javascript Object Notation\n"
   ]
  },
  {
   "cell_type": "code",
   "execution_count": 74,
   "id": "40744477",
   "metadata": {},
   "outputs": [
    {
     "data": {
      "text/plain": [
       "'My_Jams'"
      ]
     },
     "execution_count": 74,
     "metadata": {},
     "output_type": "execute_result"
    }
   ],
   "source": [
    "import json\n",
    "\n",
    "#with oopen to load json file\n",
    "with open('playlist.json', 'r') as f:\n",
    "    data = json.load(f)\n",
    "\n",
    "data['playlist_name']\n"
   ]
  },
  {
   "cell_type": "code",
   "execution_count": 75,
   "id": "3847b45c",
   "metadata": {},
   "outputs": [
    {
     "data": {
      "text/plain": [
       "[{'title': 'Stan',\n",
       "  'artist': 'Eminem',\n",
       "  'album': 'The Marshall Mathers LP',\n",
       "  'duration_sec': 405},\n",
       " {'title': 'In Da Club',\n",
       "  'artist': '50 Cent',\n",
       "  'album': 'Get Rich or Die Tryin',\n",
       "  'duration_sec': 240},\n",
       " {'title': 'Suzanna',\n",
       "  'artist': 'Sauti Sol',\n",
       "  'album': 'Midnight Train',\n",
       "  'duration_sec': 239},\n",
       " {'title': 'Many Men',\n",
       "  'artist': '50 Cent',\n",
       "  'album': 'Get Rich or Die Tryin',\n",
       "  'duration_sec': 256},\n",
       " {'title': 'Bad Liar',\n",
       "  'artist': 'Imagine Dragons',\n",
       "  'album': 'Origins',\n",
       "  'duration_sec': 243}]"
      ]
     },
     "execution_count": 75,
     "metadata": {},
     "output_type": "execute_result"
    }
   ],
   "source": [
    "data['tracks']"
   ]
  },
  {
   "cell_type": "code",
   "execution_count": 76,
   "id": "d38c9915",
   "metadata": {},
   "outputs": [
    {
     "data": {
      "text/plain": [
       "list"
      ]
     },
     "execution_count": 76,
     "metadata": {},
     "output_type": "execute_result"
    }
   ],
   "source": [
    "type(data['tracks'])"
   ]
  },
  {
   "cell_type": "code",
   "execution_count": 77,
   "id": "87aa7042",
   "metadata": {},
   "outputs": [
    {
     "data": {
      "text/plain": [
       "{'playlist_name': 'My_Jams',\n",
       " 'created_by': 'Chacha',\n",
       " 'tracks': [{'title': 'Stan',\n",
       "   'artist': 'Eminem',\n",
       "   'album': 'The Marshall Mathers LP',\n",
       "   'duration_sec': 405},\n",
       "  {'title': 'In Da Club',\n",
       "   'artist': '50 Cent',\n",
       "   'album': 'Get Rich or Die Tryin',\n",
       "   'duration_sec': 240},\n",
       "  {'title': 'Suzanna',\n",
       "   'artist': 'Sauti Sol',\n",
       "   'album': 'Midnight Train',\n",
       "   'duration_sec': 239},\n",
       "  {'title': 'Many Men',\n",
       "   'artist': '50 Cent',\n",
       "   'album': 'Get Rich or Die Tryin',\n",
       "   'duration_sec': 256},\n",
       "  {'title': 'Bad Liar',\n",
       "   'artist': 'Imagine Dragons',\n",
       "   'album': 'Origins',\n",
       "   'duration_sec': 243}]}"
      ]
     },
     "execution_count": 77,
     "metadata": {},
     "output_type": "execute_result"
    }
   ],
   "source": [
    "#with open to load the json file\n",
    "with open('playlist.json', 'r') as f:\n",
    "    data = json.load(f)\n",
    "\n",
    "data"
   ]
  },
  {
   "cell_type": "code",
   "execution_count": 78,
   "id": "d343bca5",
   "metadata": {},
   "outputs": [
    {
     "data": {
      "text/plain": [
       "dict"
      ]
     },
     "execution_count": 78,
     "metadata": {},
     "output_type": "execute_result"
    }
   ],
   "source": [
    "type(data)"
   ]
  },
  {
   "cell_type": "code",
   "execution_count": 79,
   "id": "6bdd7f4a",
   "metadata": {},
   "outputs": [
    {
     "data": {
      "text/plain": [
       "'{\\n  \"playlist_name\": \"My_Jams\",\\n  \"created_by\": \"Chacha\",\\n  \"tracks\": [\\n    {\\n      \"title\": \"Stan\",\\n      \"artist\": \"Eminem\",\\n      \"album\": \"The Marshall Mathers LP\",\\n      \"duration_sec\": 405\\n    },\\n    {\\n      \"title\": \"In Da Club\",\\n      \"artist\": \"50 Cent\",\\n      \"album\": \"Get Rich or Die Tryin\",\\n      \"duration_sec\": 240\\n    },\\n    {\\n      \"title\": \"Suzanna\",\\n      \"artist\": \"Sauti Sol\",\\n      \"album\": \"Midnight Train\",\\n      \"duration_sec\": 239\\n    },\\n    {\\n      \"title\": \"Many Men\",\\n      \"artist\": \"50 Cent\",\\n      \"album\": \"Get Rich or Die Tryin\",\\n      \"duration_sec\": 256\\n    },\\n    {\\n      \"title\": \"Bad Liar\",\\n      \"artist\": \"Imagine Dragons\",\\n      \"album\": \"Origins\",\\n      \"duration_sec\": 243\\n    }\\n  ]\\n}\\n'"
      ]
     },
     "execution_count": 79,
     "metadata": {},
     "output_type": "execute_result"
    }
   ],
   "source": [
    "# with open to load the json file not recommended because string\n",
    "with open('playlist.json', 'r') as f:\n",
    "    dt = f.read()\n",
    "\n",
    "dt\n",
    "\n"
   ]
  },
  {
   "cell_type": "code",
   "execution_count": 80,
   "id": "220b22f6",
   "metadata": {},
   "outputs": [
    {
     "data": {
      "text/plain": [
       "str"
      ]
     },
     "execution_count": 80,
     "metadata": {},
     "output_type": "execute_result"
    }
   ],
   "source": [
    "type(dt)"
   ]
  },
  {
   "cell_type": "markdown",
   "id": "2faa25d2",
   "metadata": {},
   "source": [
    "## Exploring JSON\n",
    "Let's check what is inside"
   ]
  },
  {
   "cell_type": "code",
   "execution_count": 81,
   "id": "9a8796b7",
   "metadata": {},
   "outputs": [
    {
     "data": {
      "text/plain": [
       "dict_keys(['playlist_name', 'created_by', 'tracks'])"
      ]
     },
     "execution_count": 81,
     "metadata": {},
     "output_type": "execute_result"
    }
   ],
   "source": [
    "data.keys()"
   ]
  },
  {
   "cell_type": "code",
   "execution_count": 82,
   "id": "a5bcf179",
   "metadata": {},
   "outputs": [
    {
     "data": {
      "text/plain": [
       "dict_items([('playlist_name', 'My_Jams'), ('created_by', 'Chacha'), ('tracks', [{'title': 'Stan', 'artist': 'Eminem', 'album': 'The Marshall Mathers LP', 'duration_sec': 405}, {'title': 'In Da Club', 'artist': '50 Cent', 'album': 'Get Rich or Die Tryin', 'duration_sec': 240}, {'title': 'Suzanna', 'artist': 'Sauti Sol', 'album': 'Midnight Train', 'duration_sec': 239}, {'title': 'Many Men', 'artist': '50 Cent', 'album': 'Get Rich or Die Tryin', 'duration_sec': 256}, {'title': 'Bad Liar', 'artist': 'Imagine Dragons', 'album': 'Origins', 'duration_sec': 243}])])"
      ]
     },
     "execution_count": 82,
     "metadata": {},
     "output_type": "execute_result"
    }
   ],
   "source": [
    "data.items()"
   ]
  },
  {
   "cell_type": "code",
   "execution_count": 83,
   "id": "d6b7226d",
   "metadata": {},
   "outputs": [
    {
     "data": {
      "text/plain": [
       "dict_values(['My_Jams', 'Chacha', [{'title': 'Stan', 'artist': 'Eminem', 'album': 'The Marshall Mathers LP', 'duration_sec': 405}, {'title': 'In Da Club', 'artist': '50 Cent', 'album': 'Get Rich or Die Tryin', 'duration_sec': 240}, {'title': 'Suzanna', 'artist': 'Sauti Sol', 'album': 'Midnight Train', 'duration_sec': 239}, {'title': 'Many Men', 'artist': '50 Cent', 'album': 'Get Rich or Die Tryin', 'duration_sec': 256}, {'title': 'Bad Liar', 'artist': 'Imagine Dragons', 'album': 'Origins', 'duration_sec': 243}]])"
      ]
     },
     "execution_count": 83,
     "metadata": {},
     "output_type": "execute_result"
    }
   ],
   "source": [
    "data.values()"
   ]
  },
  {
   "cell_type": "code",
   "execution_count": 84,
   "id": "8663b013",
   "metadata": {},
   "outputs": [
    {
     "data": {
      "text/plain": [
       "'Suzanna'"
      ]
     },
     "execution_count": 84,
     "metadata": {},
     "output_type": "execute_result"
    }
   ],
   "source": [
    "#accessing the third song\n",
    "data['tracks'][2]['title']"
   ]
  },
  {
   "cell_type": "code",
   "execution_count": 85,
   "id": "61cb4dd7",
   "metadata": {},
   "outputs": [
    {
     "data": {
      "text/plain": [
       "'Suzanna'"
      ]
     },
     "execution_count": 85,
     "metadata": {},
     "output_type": "execute_result"
    }
   ],
   "source": [
    "data['tracks'][2]['title']"
   ]
  },
  {
   "cell_type": "markdown",
   "id": "aaadd60e",
   "metadata": {},
   "source": [
    "## Transforming JSON Schema\n",
    "Here we want to transform JSON into a flatter structure which we can use for analysis\n",
    "\n"
   ]
  },
  {
   "cell_type": "markdown",
   "id": "47145fac",
   "metadata": {},
   "source": []
  },
  {
   "cell_type": "code",
   "execution_count": 86,
   "id": "50f7f53e",
   "metadata": {},
   "outputs": [
    {
     "data": {
      "text/plain": [
       "\"\\nLoad  the JSON file \\niterate over the tracks and create a new dictionary from the data points\\n\\n'artist':['Eminem', '50 Cent', 'Sauti Sol', 'Imagine Dragons']\\n\""
      ]
     },
     "execution_count": 86,
     "metadata": {},
     "output_type": "execute_result"
    }
   ],
   "source": [
    "\"\"\"\n",
    "Load  the JSON file \n",
    "iterate over the tracks and create a new dictionary from the data points\n",
    "\n",
    "'artist':['Eminem', '50 Cent', 'Sauti Sol', 'Imagine Dragons']\n",
    "\"\"\""
   ]
  },
  {
   "cell_type": "code",
   "execution_count": 87,
   "id": "0b7b6e9d",
   "metadata": {},
   "outputs": [
    {
     "data": {
      "text/plain": [
       "[{'title': 'Stan',\n",
       "  'artist': 'Eminem',\n",
       "  'album': 'The Marshall Mathers LP',\n",
       "  'duration_sec': 405},\n",
       " {'title': 'In Da Club',\n",
       "  'artist': '50 Cent',\n",
       "  'album': 'Get Rich or Die Tryin',\n",
       "  'duration_sec': 240},\n",
       " {'title': 'Suzanna',\n",
       "  'artist': 'Sauti Sol',\n",
       "  'album': 'Midnight Train',\n",
       "  'duration_sec': 239},\n",
       " {'title': 'Many Men',\n",
       "  'artist': '50 Cent',\n",
       "  'album': 'Get Rich or Die Tryin',\n",
       "  'duration_sec': 256},\n",
       " {'title': 'Bad Liar',\n",
       "  'artist': 'Imagine Dragons',\n",
       "  'album': 'Origins',\n",
       "  'duration_sec': 243}]"
      ]
     },
     "execution_count": 87,
     "metadata": {},
     "output_type": "execute_result"
    }
   ],
   "source": [
    "tracks = data['tracks']\n",
    "tracks"
   ]
  },
  {
   "cell_type": "code",
   "execution_count": 96,
   "id": "59b76466",
   "metadata": {},
   "outputs": [
    {
     "data": {
      "text/plain": [
       "[{'TITLE': 'Stan', 'ARTIST': 'Eminem', 'LENGTH IN MIN': 6.75},\n",
       " {'TITLE': 'In Da Club', 'ARTIST': '50 Cent', 'LENGTH IN MIN': 4.0},\n",
       " {'TITLE': 'Suzanna', 'ARTIST': 'Sauti Sol', 'LENGTH IN MIN': 3.98},\n",
       " {'TITLE': 'Many Men', 'ARTIST': '50 Cent', 'LENGTH IN MIN': 4.27},\n",
       " {'TITLE': 'Bad Liar', 'ARTIST': 'Imagine Dragons', 'LENGTH IN MIN': 4.05}]"
      ]
     },
     "execution_count": 96,
     "metadata": {},
     "output_type": "execute_result"
    }
   ],
   "source": [
    "flattened_tracks = []\n",
    "\n",
    "\n",
    "for track in tracks:\n",
    "    flattened_tracks.append({\n",
    "        'TITLE': track['title'],\n",
    "        'ARTIST':track['artist'],\n",
    "        # 'ALBUM': track['album'],\n",
    "        # 'LENGTH OF SONG': track['duration_sec'],\n",
    "        'LENGTH IN MIN' : round(track['duration_sec'] / 60 ,2)\n",
    "    })\n",
    "\n",
    "flattened_tracks"
   ]
  },
  {
   "cell_type": "code",
   "execution_count": 89,
   "id": "abc9690f",
   "metadata": {},
   "outputs": [
    {
     "name": "stdout",
     "output_type": "stream",
     "text": [
      "['title', 'artist', 'album', 'duration_sec']\n",
      "['title', 'artist', 'album', 'duration_sec']\n",
      "['title', 'artist', 'album', 'duration_sec']\n",
      "['title', 'artist', 'album', 'duration_sec']\n",
      "['title', 'artist', 'album', 'duration_sec']\n"
     ]
    },
    {
     "data": {
      "text/html": [
       "<div>\n",
       "<style scoped>\n",
       "    .dataframe tbody tr th:only-of-type {\n",
       "        vertical-align: middle;\n",
       "    }\n",
       "\n",
       "    .dataframe tbody tr th {\n",
       "        vertical-align: top;\n",
       "    }\n",
       "\n",
       "    .dataframe thead th {\n",
       "        text-align: right;\n",
       "    }\n",
       "</style>\n",
       "<table border=\"1\" class=\"dataframe\">\n",
       "  <thead>\n",
       "    <tr style=\"text-align: right;\">\n",
       "      <th></th>\n",
       "      <th>title</th>\n",
       "      <th>artist</th>\n",
       "      <th>album</th>\n",
       "    </tr>\n",
       "  </thead>\n",
       "  <tbody>\n",
       "    <tr>\n",
       "      <th>0</th>\n",
       "      <td>Stan</td>\n",
       "      <td>Eminem</td>\n",
       "      <td>6.75</td>\n",
       "    </tr>\n",
       "    <tr>\n",
       "      <th>1</th>\n",
       "      <td>In Da Club</td>\n",
       "      <td>50 Cent</td>\n",
       "      <td>4.00</td>\n",
       "    </tr>\n",
       "    <tr>\n",
       "      <th>2</th>\n",
       "      <td>Suzanna</td>\n",
       "      <td>Sauti Sol</td>\n",
       "      <td>3.98</td>\n",
       "    </tr>\n",
       "    <tr>\n",
       "      <th>3</th>\n",
       "      <td>Many Men</td>\n",
       "      <td>50 Cent</td>\n",
       "      <td>4.27</td>\n",
       "    </tr>\n",
       "    <tr>\n",
       "      <th>4</th>\n",
       "      <td>Bad Liar</td>\n",
       "      <td>Imagine Dragons</td>\n",
       "      <td>4.05</td>\n",
       "    </tr>\n",
       "  </tbody>\n",
       "</table>\n",
       "</div>"
      ],
      "text/plain": [
       "        title           artist  album\n",
       "0        Stan           Eminem   6.75\n",
       "1  In Da Club          50 Cent   4.00\n",
       "2     Suzanna        Sauti Sol   3.98\n",
       "3    Many Men          50 Cent   4.27\n",
       "4    Bad Liar  Imagine Dragons   4.05"
      ]
     },
     "execution_count": 89,
     "metadata": {},
     "output_type": "execute_result"
    }
   ],
   "source": [
    "flattened_tracks = []\n",
    "\n",
    "\n",
    "for track in tracks:\n",
    "    dict_keys = list(track.keys())\n",
    "    print(dict_keys)\n",
    "    flattened_tracks.append({\n",
    "        dict_keys[0]: track['title'],\n",
    "        dict_keys[1]:track['artist'],\n",
    "        dict_keys[2]: round(track['duration_sec'] / 60 ,2)\n",
    "    })\n",
    "\n",
    "df2 = pd.DataFrame(flattened_tracks)\n",
    "\n",
    "df2.head()"
   ]
  },
  {
   "cell_type": "code",
   "execution_count": null,
   "id": "11d76623",
   "metadata": {},
   "outputs": [
    {
     "ename": "NameError",
     "evalue": "name 'json' is not defined",
     "output_type": "error",
     "traceback": [
      "\u001b[1;31m---------------------------------------------------------------------------\u001b[0m",
      "\u001b[1;31mNameError\u001b[0m                                 Traceback (most recent call last)",
      "\u001b[1;32m<ipython-input-1-2b5440e3b6ed>\u001b[0m in \u001b[0;36m<module>\u001b[1;34m\u001b[0m\n\u001b[0;32m      2\u001b[0m \u001b[1;33m\u001b[0m\u001b[0m\n\u001b[0;32m      3\u001b[0m \u001b[1;32mwith\u001b[0m \u001b[0mopen\u001b[0m\u001b[1;33m(\u001b[0m\u001b[1;34m'playlist.json'\u001b[0m\u001b[1;33m,\u001b[0m \u001b[1;34m'r'\u001b[0m\u001b[1;33m)\u001b[0m \u001b[1;32mas\u001b[0m \u001b[0mf\u001b[0m\u001b[1;33m:\u001b[0m\u001b[1;33m\u001b[0m\u001b[1;33m\u001b[0m\u001b[0m\n\u001b[1;32m----> 4\u001b[1;33m     \u001b[0mplaylist\u001b[0m \u001b[1;33m=\u001b[0m \u001b[0mjson\u001b[0m\u001b[1;33m.\u001b[0m\u001b[0mload\u001b[0m\u001b[1;33m(\u001b[0m\u001b[0mf\u001b[0m\u001b[1;33m)\u001b[0m\u001b[1;33m\u001b[0m\u001b[1;33m\u001b[0m\u001b[0m\n\u001b[0m\u001b[0;32m      5\u001b[0m \u001b[1;33m\u001b[0m\u001b[0m\n\u001b[0;32m      6\u001b[0m \u001b[1;31m#using pandas to make it a csv\u001b[0m\u001b[1;33m\u001b[0m\u001b[1;33m\u001b[0m\u001b[1;33m\u001b[0m\u001b[0m\n",
      "\u001b[1;31mNameError\u001b[0m: name 'json' is not defined"
     ]
    }
   ],
   "source": [
    "import pandas as pd\n",
    "\n",
    "with open('playlist.json', 'r') as f:\n",
    "    playlist = json.load(f)\n",
    "\n",
    "#using pandas to make it a csv\n",
    "df = pd.DataFrame(playlist['tracks'])\n",
    "df.head()\n",
    "# df.to_csv('tracks.csv', index=False)\n"
   ]
  },
  {
   "cell_type": "code",
   "execution_count": 91,
   "id": "ffa87e89",
   "metadata": {},
   "outputs": [
    {
     "data": {
      "text/html": [
       "<div>\n",
       "<style scoped>\n",
       "    .dataframe tbody tr th:only-of-type {\n",
       "        vertical-align: middle;\n",
       "    }\n",
       "\n",
       "    .dataframe tbody tr th {\n",
       "        vertical-align: top;\n",
       "    }\n",
       "\n",
       "    .dataframe thead th {\n",
       "        text-align: right;\n",
       "    }\n",
       "</style>\n",
       "<table border=\"1\" class=\"dataframe\">\n",
       "  <thead>\n",
       "    <tr style=\"text-align: right;\">\n",
       "      <th></th>\n",
       "      <th>duration_sec</th>\n",
       "    </tr>\n",
       "  </thead>\n",
       "  <tbody>\n",
       "    <tr>\n",
       "      <th>count</th>\n",
       "      <td>5.000000</td>\n",
       "    </tr>\n",
       "    <tr>\n",
       "      <th>mean</th>\n",
       "      <td>276.600000</td>\n",
       "    </tr>\n",
       "    <tr>\n",
       "      <th>std</th>\n",
       "      <td>72.099237</td>\n",
       "    </tr>\n",
       "    <tr>\n",
       "      <th>min</th>\n",
       "      <td>239.000000</td>\n",
       "    </tr>\n",
       "    <tr>\n",
       "      <th>25%</th>\n",
       "      <td>240.000000</td>\n",
       "    </tr>\n",
       "    <tr>\n",
       "      <th>50%</th>\n",
       "      <td>243.000000</td>\n",
       "    </tr>\n",
       "    <tr>\n",
       "      <th>75%</th>\n",
       "      <td>256.000000</td>\n",
       "    </tr>\n",
       "    <tr>\n",
       "      <th>max</th>\n",
       "      <td>405.000000</td>\n",
       "    </tr>\n",
       "  </tbody>\n",
       "</table>\n",
       "</div>"
      ],
      "text/plain": [
       "       duration_sec\n",
       "count      5.000000\n",
       "mean     276.600000\n",
       "std       72.099237\n",
       "min      239.000000\n",
       "25%      240.000000\n",
       "50%      243.000000\n",
       "75%      256.000000\n",
       "max      405.000000"
      ]
     },
     "execution_count": 91,
     "metadata": {},
     "output_type": "execute_result"
    }
   ],
   "source": [
    "df.describe()"
   ]
  },
  {
   "cell_type": "code",
   "execution_count": 92,
   "id": "9b4a3c34",
   "metadata": {},
   "outputs": [
    {
     "data": {
      "text/plain": [
       "276.6"
      ]
     },
     "execution_count": 92,
     "metadata": {},
     "output_type": "execute_result"
    }
   ],
   "source": [
    "import numpy as np\n",
    "np.mean(df['duration_sec'])"
   ]
  },
  {
   "cell_type": "code",
   "execution_count": 97,
   "id": "f5f57226",
   "metadata": {},
   "outputs": [
    {
     "data": {
      "text/html": [
       "<div>\n",
       "<style scoped>\n",
       "    .dataframe tbody tr th:only-of-type {\n",
       "        vertical-align: middle;\n",
       "    }\n",
       "\n",
       "    .dataframe tbody tr th {\n",
       "        vertical-align: top;\n",
       "    }\n",
       "\n",
       "    .dataframe thead th {\n",
       "        text-align: right;\n",
       "    }\n",
       "</style>\n",
       "<table border=\"1\" class=\"dataframe\">\n",
       "  <thead>\n",
       "    <tr style=\"text-align: right;\">\n",
       "      <th></th>\n",
       "      <th>TITLE</th>\n",
       "      <th>ARTIST</th>\n",
       "      <th>LENGTH IN MIN</th>\n",
       "    </tr>\n",
       "  </thead>\n",
       "  <tbody>\n",
       "    <tr>\n",
       "      <th>0</th>\n",
       "      <td>Stan</td>\n",
       "      <td>Eminem</td>\n",
       "      <td>6.75</td>\n",
       "    </tr>\n",
       "    <tr>\n",
       "      <th>1</th>\n",
       "      <td>In Da Club</td>\n",
       "      <td>50 Cent</td>\n",
       "      <td>4.00</td>\n",
       "    </tr>\n",
       "    <tr>\n",
       "      <th>2</th>\n",
       "      <td>Suzanna</td>\n",
       "      <td>Sauti Sol</td>\n",
       "      <td>3.98</td>\n",
       "    </tr>\n",
       "    <tr>\n",
       "      <th>3</th>\n",
       "      <td>Many Men</td>\n",
       "      <td>50 Cent</td>\n",
       "      <td>4.27</td>\n",
       "    </tr>\n",
       "    <tr>\n",
       "      <th>4</th>\n",
       "      <td>Bad Liar</td>\n",
       "      <td>Imagine Dragons</td>\n",
       "      <td>4.05</td>\n",
       "    </tr>\n",
       "  </tbody>\n",
       "</table>\n",
       "</div>"
      ],
      "text/plain": [
       "        TITLE           ARTIST  LENGTH IN MIN\n",
       "0        Stan           Eminem           6.75\n",
       "1  In Da Club          50 Cent           4.00\n",
       "2     Suzanna        Sauti Sol           3.98\n",
       "3    Many Men          50 Cent           4.27\n",
       "4    Bad Liar  Imagine Dragons           4.05"
      ]
     },
     "execution_count": 97,
     "metadata": {},
     "output_type": "execute_result"
    }
   ],
   "source": [
    "pd.DataFrame(flattened_tracks).head()"
   ]
  },
  {
   "cell_type": "code",
   "execution_count": 101,
   "id": "6e87626c",
   "metadata": {},
   "outputs": [],
   "source": [
    "import json\n",
    "import csv\n",
    "\n",
    "#loading the json file\n",
    "with open('playlist.json', 'r') as f:\n",
    "    data = json.load(f)\n",
    "\n",
    "#creating a csv file\n",
    "with open('playlist.csv', 'w', newline=\"\") as f:\n",
    "    writer = csv.DictWriter(f, fieldnames=['title', 'artist', 'album', 'duration_sec'])\n",
    "    writer.writeheader()\n",
    "    writer.writerows(data['tracks'])\n",
    "\n",
    "   "
   ]
  }
 ],
 "metadata": {
  "kernelspec": {
   "display_name": "learn-env",
   "language": "python",
   "name": "python3"
  },
  "language_info": {
   "codemirror_mode": {
    "name": "ipython",
    "version": 3
   },
   "file_extension": ".py",
   "mimetype": "text/x-python",
   "name": "python",
   "nbconvert_exporter": "python",
   "pygments_lexer": "ipython3",
   "version": "3.8.5"
  }
 },
 "nbformat": 4,
 "nbformat_minor": 5
}
